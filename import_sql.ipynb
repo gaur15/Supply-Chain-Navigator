{
 "cells": [
  {
   "cell_type": "code",
   "execution_count": 2,
   "metadata": {},
   "outputs": [
    {
     "name": "stdout",
     "output_type": "stream",
     "text": [
      "Collecting sqlalchemy\n",
      "  Downloading SQLAlchemy-2.0.36-cp312-cp312-win_amd64.whl.metadata (9.9 kB)\n",
      "Collecting typing-extensions>=4.6.0 (from sqlalchemy)\n",
      "  Using cached typing_extensions-4.12.2-py3-none-any.whl.metadata (3.0 kB)\n",
      "Collecting greenlet!=0.4.17 (from sqlalchemy)\n",
      "  Downloading greenlet-3.1.1-cp312-cp312-win_amd64.whl.metadata (3.9 kB)\n",
      "Downloading SQLAlchemy-2.0.36-cp312-cp312-win_amd64.whl (2.1 MB)\n",
      "   ---------------------------------------- 0.0/2.1 MB ? eta -:--:--\n",
      "   ----- ---------------------------------- 0.3/2.1 MB ? eta -:--:--\n",
      "   ---------- ----------------------------- 0.5/2.1 MB 2.1 MB/s eta 0:00:01\n",
      "   --------------- ------------------------ 0.8/2.1 MB 1.2 MB/s eta 0:00:02\n",
      "   --------------- ------------------------ 0.8/2.1 MB 1.2 MB/s eta 0:00:02\n",
      "   -------------------- ------------------- 1.0/2.1 MB 1.0 MB/s eta 0:00:01\n",
      "   -------------------- ------------------- 1.0/2.1 MB 1.0 MB/s eta 0:00:01\n",
      "   -------------------- ------------------- 1.0/2.1 MB 1.0 MB/s eta 0:00:01\n",
      "   -------------------- ------------------- 1.0/2.1 MB 1.0 MB/s eta 0:00:01\n",
      "   ------------------------- -------------- 1.3/2.1 MB 664.1 kB/s eta 0:00:02\n",
      "   ------------------------- -------------- 1.3/2.1 MB 664.1 kB/s eta 0:00:02\n",
      "   ------------------------- -------------- 1.3/2.1 MB 664.1 kB/s eta 0:00:02\n",
      "   ------------------------- -------------- 1.3/2.1 MB 664.1 kB/s eta 0:00:02\n",
      "   ------------------------- -------------- 1.3/2.1 MB 664.1 kB/s eta 0:00:02\n",
      "   ------------------------- -------------- 1.3/2.1 MB 664.1 kB/s eta 0:00:02\n",
      "   ------------------------------ --------- 1.6/2.1 MB 455.9 kB/s eta 0:00:02\n",
      "   ------------------------------ --------- 1.6/2.1 MB 455.9 kB/s eta 0:00:02\n",
      "   ------------------------------ --------- 1.6/2.1 MB 455.9 kB/s eta 0:00:02\n",
      "   ----------------------------------- ---- 1.8/2.1 MB 439.5 kB/s eta 0:00:01\n",
      "   ----------------------------------- ---- 1.8/2.1 MB 439.5 kB/s eta 0:00:01\n",
      "   ----------------------------------- ---- 1.8/2.1 MB 439.5 kB/s eta 0:00:01\n",
      "   ----------------------------------- ---- 1.8/2.1 MB 439.5 kB/s eta 0:00:01\n",
      "   ---------------------------------------- 2.1/2.1 MB 420.4 kB/s eta 0:00:00\n",
      "Downloading greenlet-3.1.1-cp312-cp312-win_amd64.whl (299 kB)\n",
      "Using cached typing_extensions-4.12.2-py3-none-any.whl (37 kB)\n",
      "Installing collected packages: typing-extensions, greenlet, sqlalchemy\n",
      "Successfully installed greenlet-3.1.1 sqlalchemy-2.0.36 typing-extensions-4.12.2\n"
     ]
    }
   ],
   "source": [
    "! pip install sqlalchemy"
   ]
  },
  {
   "cell_type": "code",
   "execution_count": 5,
   "metadata": {},
   "outputs": [
    {
     "name": "stdout",
     "output_type": "stream",
     "text": [
      "Collecting mysqlclient\n",
      "  Downloading mysqlclient-2.2.4-cp312-cp312-win_amd64.whl.metadata (4.6 kB)\n",
      "Downloading mysqlclient-2.2.4-cp312-cp312-win_amd64.whl (203 kB)\n",
      "Installing collected packages: mysqlclient\n",
      "Successfully installed mysqlclient-2.2.4\n",
      "Note: you may need to restart the kernel to use updated packages.\n"
     ]
    }
   ],
   "source": [
    "! pip install mysqlclient\n"
   ]
  },
  {
   "cell_type": "code",
   "execution_count": 13,
   "metadata": {},
   "outputs": [
    {
     "name": "stdout",
     "output_type": "stream",
     "text": [
      "An error occurred: (mysql.connector.errors.DatabaseError) 2005 (HY000): Unknown MySQL server host '@localhost' (11003)\n",
      "(Background on this error at: https://sqlalche.me/e/20/4xp6)\n",
      "No connection was established.\n"
     ]
    }
   ],
   "source": [
    "import warnings\n",
    "warnings.filterwarnings('ignore')\n",
    "from sqlalchemy import create_engine\n",
    "\n",
    "# Connection parameters\n",
    "username = 'root'  # Your MySQL username\n",
    "password = 'gaurigopu5@'  # Your MySQL password\n",
    "host = 'localhost'  # Hostname\n",
    "port = '3306'  # Port number\n",
    "\n",
    "# Create the SQLAlchemy engine\n",
    "engine = create_engine(f\"mysql+mysqlconnector://root:gaurigopu5@@localhost:3306/\")\n",
    "\n",
    "conn=None\n",
    "try:\n",
    "    # Connect to the database\n",
    "    conn = engine.connect()\n",
    "\n",
    "    # Execute a query to show databases\n",
    "    result = conn.execute(\"SHOW DATABASES;\")\n",
    "    databases = [row[0] for row in result]\n",
    "    \n",
    "    # Print the databases\n",
    "    print(\"Databases:\", databases)\n",
    "\n",
    "except Exception as e:\n",
    "    print(f\"An error occurred: {e}\")\n",
    "\n",
    "finally:\n",
    "    # Close the connection\n",
    "    if conn is not None:\n",
    "        conn.close()\n",
    "        print(\"MySQL connection is closed\")\n",
    "    else:\n",
    "        print(\"No connection was established.\")\n"
   ]
  },
  {
   "cell_type": "code",
   "execution_count": 14,
   "metadata": {},
   "outputs": [
    {
     "name": "stdout",
     "output_type": "stream",
     "text": [
      "Requirement already satisfied: sqlalchemy in c:\\users\\hp-d\\appdata\\local\\programs\\python\\python312\\lib\\site-packages (2.0.36)\n",
      "Requirement already satisfied: mysql-connector-python in c:\\users\\hp-d\\appdata\\local\\programs\\python\\python312\\lib\\site-packages (9.1.0)\n",
      "Requirement already satisfied: typing-extensions>=4.6.0 in c:\\users\\hp-d\\appdata\\local\\programs\\python\\python312\\lib\\site-packages (from sqlalchemy) (4.12.2)\n",
      "Requirement already satisfied: greenlet!=0.4.17 in c:\\users\\hp-d\\appdata\\local\\programs\\python\\python312\\lib\\site-packages (from sqlalchemy) (3.1.1)\n"
     ]
    }
   ],
   "source": [
    "! pip install sqlalchemy mysql-connector-python\n"
   ]
  },
  {
   "cell_type": "code",
   "execution_count": 21,
   "metadata": {},
   "outputs": [
    {
     "name": "stdout",
     "output_type": "stream",
     "text": [
      "An error occurred: (mysql.connector.errors.DatabaseError) 2005 (HY000): Unknown MySQL server host '@localhost' (11003)\n",
      "(Background on this error at: https://sqlalche.me/e/20/4xp6)\n",
      "No connection was established.\n"
     ]
    }
   ],
   "source": [
    "import warnings\n",
    "warnings.filterwarnings('ignore')\n",
    "from sqlalchemy import create_engine\n",
    "import pandas as pd\n",
    "\n",
    "# Connection parameters\n",
    "username = 'root'            # Your MySQL username\n",
    "password = 'gaurigopu5@'            # Your MySQL password\n",
    "host = 'localhost'                    # Hostname\n",
    "port = '3306'                         # Port number\n",
    "\n",
    "# Create the SQLAlchemy engine using mysql-connector-python\n",
    "engine = create_engine(f\"mysql+mysqlconnector://root:gaurigopu5@@localhost:3306/supply\")\n",
    "\n",
    "conn = None  # Initialize conn to None\n",
    "\n",
    "try:\n",
    "    # Connect to the database\n",
    "    conn = engine.connect()\n",
    "    print(\"Connection established successfully!\")\n",
    "\n",
    "    # Execute a query to show databases\n",
    "    result = conn.execute(\"SHOW DATABASES;\")\n",
    "    databases = [row[0] for row in result]\n",
    "\n",
    "    # Print the databases\n",
    "    print(\"Databases:\", databases)\n",
    "\n",
    "except Exception as e:\n",
    "    print(f\"An error occurred: {e}\")\n",
    "\n",
    "finally:\n",
    "    # Close the connection only if it was successfully created\n",
    "    if conn is not None:\n",
    "        conn.close()\n",
    "        print(\"MySQL connection is closed\")\n",
    "    else:\n",
    "        print(\"No connection was established.\")\n"
   ]
  }
 ],
 "metadata": {
  "kernelspec": {
   "display_name": "Python 3",
   "language": "python",
   "name": "python3"
  },
  "language_info": {
   "codemirror_mode": {
    "name": "ipython",
    "version": 3
   },
   "file_extension": ".py",
   "mimetype": "text/x-python",
   "name": "python",
   "nbconvert_exporter": "python",
   "pygments_lexer": "ipython3",
   "version": "3.12.7"
  }
 },
 "nbformat": 4,
 "nbformat_minor": 2
}
